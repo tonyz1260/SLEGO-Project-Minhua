{
  "cells": [
    {
      "cell_type": "markdown",
      "metadata": {
        "id": "DlOV4N79Fwrf"
      },
      "source": [
        "# SLEGO Project: UNSW CSE PhD Research - Alan Siu Lung Ng\n",
        "https://github.com/alanntl/SLEGO-Project"
      ]
    },
    {
      "cell_type": "code",
      "execution_count": 16,
      "metadata": {},
      "outputs": [
        {
          "name": "stdout",
          "output_type": "stream",
          "text": [
            "Running in GitHub Codespaces environment.\n",
            "No changes detected; no update necessary.\n",
            "Warning: Requirements file not found at /workspaces/SLEGO-Project/requirements.txt\n",
            "Skipping requirements installation.\n",
            "Working directory changed to: /workspaces/SLEGO-Project/slegospace\n"
          ]
        }
      ],
      "source": [
        "# First, import the environment_setup module\n",
        "import environment_setup\n",
        "\n",
        "# Run the environment setup\n",
        "config = environment_setup.setup_environment()"
      ]
    },
    {
      "cell_type": "markdown",
      "metadata": {
        "id": "xaXV8VuIX15o"
      },
      "source": [
        "# SLEGO APP"
      ]
    },
    {
      "cell_type": "code",
      "execution_count": 17,
      "metadata": {},
      "outputs": [
        {
          "data": {
            "text/plain": [
              "{'drive_mainfolder': '/workspaces/SLEGO-Project',\n",
              " 'drive_folder': '/workspaces/',\n",
              " 'repo_url': 'https://github.com/alanntl/SLEGO-Project.git',\n",
              " 'slego_env': '/workspaces//slego_env_v0_0_1',\n",
              " 'requirements_file': '/workspaces/SLEGO-Project/requirements.txt',\n",
              " 'folder_path': '/workspaces/SLEGO-Project/slegospace',\n",
              " 'dataspace': '/workspaces/SLEGO-Project/slegospace/dataspace',\n",
              " 'recordspace': '/workspaces/SLEGO-Project/slegospace/recordspace',\n",
              " 'functionspace': '/workspaces/SLEGO-Project/slegospace/functionspace',\n",
              " 'knowledgespace': '/workspaces/SLEGO-Project/slegospace/knowledgespace',\n",
              " 'ontologyspace': '/workspaces/SLEGO-Project/slegospace/ontologyspace'}"
            ]
          },
          "metadata": {},
          "output_type": "display_data"
        }
      ],
      "source": [
        "display(config)"
      ]
    },
    {
      "cell_type": "code",
      "execution_count": 18,
      "metadata": {},
      "outputs": [
        {
          "ename": "ModuleNotFoundError",
          "evalue": "No module named 'slegoapp'",
          "output_type": "error",
          "traceback": [
            "\u001b[0;31m---------------------------------------------------------------------------\u001b[0m",
            "\u001b[0;31mModuleNotFoundError\u001b[0m                       Traceback (most recent call last)",
            "Cell \u001b[0;32mIn[18], line 1\u001b[0m\n\u001b[0;32m----> 1\u001b[0m \u001b[38;5;28;01mimport\u001b[39;00m \u001b[38;5;21;01mslegoapp\u001b[39;00m\n\u001b[1;32m      2\u001b[0m \u001b[38;5;28;01mimport\u001b[39;00m \u001b[38;5;21;01mpanel\u001b[39;00m \u001b[38;5;28;01mas\u001b[39;00m \u001b[38;5;21;01mpn\u001b[39;00m\n\u001b[1;32m      4\u001b[0m \u001b[38;5;66;03m# Kill all existing servers\u001b[39;00m\n",
            "\u001b[0;31mModuleNotFoundError\u001b[0m: No module named 'slegoapp'"
          ]
        }
      ],
      "source": [
        "import slegoapp\n",
        "import panel as pn\n",
        "\n",
        "# Kill all existing servers\n",
        "pn.state.kill_all_servers()\n",
        "\n",
        "# Create and run the new app\n",
        "slego_app = slegoapp.SLEGOApp(config)\n",
        "slego_app.run()"
      ]
    }
  ],
  "metadata": {
    "colab": {
      "include_colab_link": true,
      "provenance": []
    },
    "kernelspec": {
      "display_name": "Python 3",
      "name": "python3"
    },
    "language_info": {
      "codemirror_mode": {
        "name": "ipython",
        "version": 3
      },
      "file_extension": ".py",
      "mimetype": "text/x-python",
      "name": "python",
      "nbconvert_exporter": "python",
      "pygments_lexer": "ipython3",
      "version": "3.12.1"
    }
  },
  "nbformat": 4,
  "nbformat_minor": 0
}
